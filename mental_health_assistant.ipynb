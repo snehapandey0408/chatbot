# Install ipywidgets for interactive UI
!pip install ipywidgets

import json
import random
import re
import ipywidgets as widgets
from IPython.display import display, clear_output

# Load responses from JSON
with open("responses.json", "r") as file:
    responses = json.load(file)

output = widgets.Output()

def chatbot_response(user_input):
    user_input = user_input.lower()
    for key in responses:
        if re.search(key, user_input):
            return random.choice(responses[key])
    return "I'm not sure about that topic. You can ask about depression, anxiety, stress, sleep, or therapy."

# Text input widget
text_input = widgets.Text(
    value="",
    placeholder="Ask me about mental health...",
    description="You:",
    disabled=False
)

# Button widget
button = widgets.Button(description="Send")

def on_button_click(b):
    with output:
        clear_output(wait=True)
        user_text = text_input.value
        if user_text.strip() == "":
            print("Please type something!")
            return
        print("You:", user_text)
        if "bye" in user_text.lower():
            print("🤖 Mental Health Assistant:", random.choice(responses["bye"]))
            text_input.disabled = True
            button.disabled = True
        else:
            print("🤖 Mental Health Assistant:", chatbot_response(user_text))
        text_input.value = ""

button.on_click(on_button_click)

display(text_input, button, output)
